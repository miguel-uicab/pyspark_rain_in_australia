{
 "cells": [
  {
   "cell_type": "code",
   "execution_count": null,
   "id": "99c7d208",
   "metadata": {},
   "outputs": [],
   "source": [
    "import findspark\n",
    "findspark.init()\n",
    "from pyspark.sql import SparkSession\n",
    "spark = SparkSession.builder.appName('explore_data_1').getOrCreate()\n",
    "import pyspark.sql.functions as F\n",
    "from pyspark.sql.functions import col,isnan, when, count\n",
    "from pyspark.sql.types import FloatType, TimestampType\n",
    "import plotly.express as px\n",
    "from functools import reduce\n",
    "import pickle"
   ]
  },
  {
   "cell_type": "markdown",
   "id": "2377cb5a",
   "metadata": {},
   "source": [
    "# O. IMPORTING DATA"
   ]
  },
  {
   "cell_type": "code",
   "execution_count": null,
   "id": "6a9f3f11",
   "metadata": {},
   "outputs": [],
   "source": [
    "df = spark.read.csv(\"../data/weatherAUS.csv\", header=True, inferSchema=True)\n",
    "df = df.na.replace('NA', None)\n",
    "# df = spark.read.csv(\"../data/penguins.csv\", header=True, inferSchema=True)"
   ]
  },
  {
   "cell_type": "markdown",
   "id": "ee1d3566",
   "metadata": {},
   "source": [
    "# 1. TAMAÑO DE DATA - PRIMEROS VISTAZOS GENERALES."
   ]
  },
  {
   "cell_type": "markdown",
   "id": "957b4784",
   "metadata": {},
   "source": [
    "A partir de aquí, se prepará la data de tal forma que pueda soportar un problema de clasificación binaria, es decir, para entrenar un modelo supervisado. Siendo así, las variables de localización y meteorológicas se considerarán como __features__ o __predictoras__. La __variable objetivo__ o __respuesta__ será `RainTomorrow`."
   ]
  },
  {
   "cell_type": "code",
   "execution_count": null,
   "id": "7a6cc34b",
   "metadata": {},
   "outputs": [],
   "source": [
    "num_rows = df.count()\n",
    "num_columns = len(df.columns)\n",
    "print(\"Número de filas:\", num_rows)\n",
    "print(\"Número de columnas:\", num_columns)"
   ]
  },
  {
   "cell_type": "markdown",
   "id": "414e3eed",
   "metadata": {},
   "source": [
    "Se revisa los tipos de variables que se tienen."
   ]
  },
  {
   "cell_type": "code",
   "execution_count": null,
   "id": "8b7b6d52",
   "metadata": {},
   "outputs": [],
   "source": [
    "df.printSchema()"
   ]
  },
  {
   "cell_type": "markdown",
   "id": "6a437722",
   "metadata": {},
   "source": [
    "Hay variables cuya naturaleza es en verdad float. Se cambia los tipos de variables."
   ]
  },
  {
   "cell_type": "code",
   "execution_count": null,
   "id": "a0238290",
   "metadata": {},
   "outputs": [],
   "source": [
    "float_names_columns = ['MinTemp', 'MaxTemp', 'Rainfall',\n",
    "                       'WindGustSpeed', 'WindSpeed9am',\n",
    "                       'WindSpeed3pm', 'Humidity9am', 'Humidity3pm', 'Pressure9am',\n",
    "                       'Pressure3pm', 'Temp9am', 'Temp3pm']"
   ]
  },
  {
   "cell_type": "code",
   "execution_count": null,
   "id": "30987564",
   "metadata": {},
   "outputs": [],
   "source": [
    "for column in float_names_columns:\n",
    "    df = df.withColumn(column,\n",
    "                       col(column).cast(FloatType()))"
   ]
  },
  {
   "cell_type": "code",
   "execution_count": null,
   "id": "7b4342c1",
   "metadata": {},
   "outputs": [],
   "source": [
    "df.toPandas().head(5)"
   ]
  },
  {
   "cell_type": "markdown",
   "id": "0b120aaa",
   "metadata": {},
   "source": [
    "Veamos qué variables poseen valores perdidos y los porcentajes de missing."
   ]
  },
  {
   "cell_type": "code",
   "execution_count": null,
   "id": "76b4fd5d",
   "metadata": {},
   "outputs": [],
   "source": [
    "columns_names = list(set(df.columns)-set(['Date']))"
   ]
  },
  {
   "cell_type": "code",
   "execution_count": null,
   "id": "7d67fd88",
   "metadata": {},
   "outputs": [],
   "source": [
    "d = df.select([\n",
    "    count(\n",
    "        when(\n",
    "            col(c).contains('None') |\n",
    "            col(c).contains('NULL') |\n",
    "            (col(c) == '') |\n",
    "            col(c).isNull() |\n",
    "            isnan(c), c\n",
    "        )\n",
    "    ).alias(c)\n",
    "    for c in columns_names\n",
    "    ])\n",
    "d.toPandas().T"
   ]
  },
  {
   "cell_type": "code",
   "execution_count": null,
   "id": "4bb73f3e",
   "metadata": {},
   "outputs": [],
   "source": [
    "total_rows = df.count()\n",
    "d_per = df.select([(count(when(col(c).contains('None') | \\\n",
    "                           col(c).contains('NULL') | \\\n",
    "                           (col(c) == '') | \\\n",
    "                           col(c).isNull() | \\\n",
    "                           isnan(c), c)) / total_rows * 100).alias(c)\n",
    "               for c in columns_names])\n",
    "d_per.toPandas().T"
   ]
  },
  {
   "cell_type": "markdown",
   "id": "8d4633cd",
   "metadata": {},
   "source": [
    "Debido a la presencia de missing en la variable objetivo `RainTomorrow`, eliminamos las filas que no cuenten con información de esta variable."
   ]
  },
  {
   "cell_type": "code",
   "execution_count": null,
   "id": "ce0047e4",
   "metadata": {},
   "outputs": [],
   "source": [
    "df_NOT_MISS_IN_OBJECTIVE =  df.dropna(subset=['RainTomorrow'])"
   ]
  },
  {
   "cell_type": "code",
   "execution_count": null,
   "id": "0c55a0ac",
   "metadata": {},
   "outputs": [],
   "source": [
    "df_NOT_MISS_IN_OBJECTIVE.toPandas()"
   ]
  },
  {
   "cell_type": "markdown",
   "id": "038bb2d9",
   "metadata": {},
   "source": [
    "Debido a que hay algunas variables con un porcentaje importante de valores perdidos, establecemos un umbral de filtrado de variables. Las variables arriba del 11 % de valores perdidos, no serán consideradas.\n",
    "\n",
    "Siendo así, se procede a eliminar aquellas variables."
   ]
  },
  {
   "cell_type": "code",
   "execution_count": null,
   "id": "801ddcca",
   "metadata": {},
   "outputs": [],
   "source": [
    "low_missing_names = [c for c in columns_names if d_per.select(col(c)).first()[c] < 11]\n",
    "low_missing_names"
   ]
  },
  {
   "cell_type": "code",
   "execution_count": null,
   "id": "abb0d238",
   "metadata": {},
   "outputs": [],
   "source": [
    "df_NOT_HIGH_MISSING =  df_NOT_MISS_IN_OBJECTIVE.select(low_missing_names + ['Date'])"
   ]
  },
  {
   "cell_type": "code",
   "execution_count": null,
   "id": "081c453c",
   "metadata": {},
   "outputs": [],
   "source": [
    "df_NOT_HIGH_MISSING.toPandas()"
   ]
  },
  {
   "cell_type": "markdown",
   "id": "d4845381",
   "metadata": {},
   "source": [
    "Se exhiben los nuevos porcentajes de missing."
   ]
  },
  {
   "cell_type": "code",
   "execution_count": null,
   "id": "29656061",
   "metadata": {},
   "outputs": [],
   "source": [
    "columns_names = list(set(df_NOT_HIGH_MISSING.columns)-set(['Date']))\n",
    "total_rows = df_NOT_HIGH_MISSING.count()\n",
    "d_per = df_NOT_HIGH_MISSING.select([(count(when(col(c).contains('None') | \\\n",
    "                                       col(c).contains('NULL') | \\\n",
    "                                       (col(c) == '') | \\\n",
    "                                       col(c).isNull() | \\\n",
    "                                       isnan(c), c)) / total_rows * 100).alias(c)\n",
    "                           for c in columns_names])\n",
    "d_per.toPandas().T"
   ]
  },
  {
   "cell_type": "code",
   "execution_count": null,
   "id": "3b336e3f",
   "metadata": {},
   "outputs": [],
   "source": [
    "df_NOT_HIGH_MISSING.count()"
   ]
  },
  {
   "cell_type": "markdown",
   "id": "2d5a4060",
   "metadata": {},
   "source": [
    "# 2. TRATAMIENTO DE VARIABLES NUMÉRICAS."
   ]
  },
  {
   "cell_type": "markdown",
   "id": "ff01a734",
   "metadata": {},
   "source": [
    "## 2.1 Visualización y Control de outliers."
   ]
  },
  {
   "cell_type": "code",
   "execution_count": null,
   "id": "4908447a",
   "metadata": {},
   "outputs": [],
   "source": [
    "columnas_float = [col_name for col_name, col_type in df_NOT_HIGH_MISSING.dtypes if col_type == 'float']\n",
    "columnas_float"
   ]
  },
  {
   "cell_type": "markdown",
   "id": "9441ae58",
   "metadata": {},
   "source": [
    "Al contar con un número no tan grande de variables numéricas, es posible una exploración individual de la distribuciones usando histogramas y box-plots."
   ]
  },
  {
   "cell_type": "code",
   "execution_count": null,
   "id": "f10cd892",
   "metadata": {},
   "outputs": [],
   "source": [
    "dp_NOT_HIGH_MISSING = df_NOT_HIGH_MISSING.toPandas() \n",
    "for name in columnas_float:\n",
    "    print(f'################################## VARIABLE: {name} ################################################')\n",
    "    fig = px.histogram(dp_NOT_HIGH_MISSING,\n",
    "                       x=name,\n",
    "                       nbins=50,\n",
    "                       marginal='box')\n",
    "    fig.show()"
   ]
  },
  {
   "cell_type": "markdown",
   "id": "8c6650c3",
   "metadata": {},
   "source": [
    "Podemos observar lo siguiente:\n",
    "* Algunas variables tiene cierto grado de concentración en el centro y otras están sesgadas.\n",
    "* Variables sesgadas como `Rainfall` y  `WindSpeed9am` cuentan con claros outliers, es decir, puntos que se alejan no solo de la concentración de la información, sino de la cola natural de la distribución. Estos valores son extremos (valores positivos muy grandes).\n",
    "* Algunas variables tienen valores negativos, la mayoría de ellas se refieren a la temperatura. Debido a que no se tiene mayor contexto de ellas, no se tomará ninguna acción al respecto."
   ]
  },
  {
   "cell_type": "markdown",
   "id": "6ebe66df",
   "metadata": {},
   "source": [
    "Para ejercer cierto control de outliers en variables sesgadas a la izquierda, se impondrán cotas superiores a estas variables, más precisamente a `Rainfall` y  `WindSpeed9am`."
   ]
  },
  {
   "cell_type": "code",
   "execution_count": null,
   "id": "edd070a8",
   "metadata": {},
   "outputs": [],
   "source": []
  },
  {
   "cell_type": "code",
   "execution_count": null,
   "id": "49056202",
   "metadata": {},
   "outputs": [],
   "source": [
    "columnas = ['Rainfall', 'WindSpeed9am']\n",
    "umbrales = [300, 100]  \n",
    "\n",
    "condiciones = []\n",
    "\n",
    "for columna, umbral in zip(columnas, umbrales):\n",
    "    condicion = (\n",
    "        isnan(col(columna)) | (col(columna) == '') |\n",
    "         col(columna).isNull() | col(columna).contains('None') |\n",
    "         col(columna).contains('NULL') |\n",
    "         (col(columna) <= umbral))\n",
    "    condiciones.append(condicion)\n",
    "\n",
    "df_SKEW_UPPER_OUTLIERS = df_NOT_HIGH_MISSING.filter(\n",
    "                             reduce(lambda a, b: a & b, condiciones)\n",
    ")\n",
    "\n",
    "# Mostrar el DataFrame resultante\n",
    "df_SKEW_UPPER_OUTLIERS.toPandas()"
   ]
  },
  {
   "cell_type": "code",
   "execution_count": null,
   "id": "0eac7e39",
   "metadata": {},
   "outputs": [],
   "source": [
    "skew_num_names = ['Rainfall', 'WindSpeed9am']\n",
    "dp_NOT_HIGH_MISSING = df_NOT_HIGH_MISSING.toPandas()\n",
    "dp_SKEW_UPPER_OUTLIERS = df_SKEW_UPPER_OUTLIERS.toPandas()\n",
    "for name in skew_num_names:\n",
    "    print(f'################################## VARIABLE: {name} ################################################')\n",
    "    print(f'Antes de outliers.')\n",
    "    fig = px.histogram(dp_NOT_HIGH_MISSING,\n",
    "                       x=name,\n",
    "                       nbins=50,\n",
    "                       marginal='box')\n",
    "    fig.show()\n",
    "    print(f'Después de outliers.')\n",
    "    fig2 = px.histogram(dp_SKEW_UPPER_OUTLIERS,\n",
    "                        x=name,\n",
    "                        nbins=50,\n",
    "                        marginal='box' )\n",
    "    fig2.show()"
   ]
  },
  {
   "cell_type": "markdown",
   "id": "e18358bf",
   "metadata": {},
   "source": [
    "Se comparan los tamaños de data antes y después de outliers. Se puede ver que el porcentaje de data eliminada es ínfimo. Si esto fuera lo contrario, es decir, si data eliminada fuera considerble, se tendría que pensar en otras estrategias para control de outliers y sesgos extremos, como por ejemplo las tranformaciones yeo-johnson o box-cox."
   ]
  },
  {
   "cell_type": "code",
   "execution_count": null,
   "id": "afc98444",
   "metadata": {},
   "outputs": [],
   "source": [
    "print('Porcentaje remanente de la data después de eliminar outliers:', (dp_SKEW_UPPER_OUTLIERS.shape[0] / dp_NOT_HIGH_MISSING.shape[0]) * 100, '%')"
   ]
  },
  {
   "cell_type": "code",
   "execution_count": null,
   "id": "a9b6ad8b",
   "metadata": {},
   "outputs": [],
   "source": [
    "type(df_SKEW_UPPER_OUTLIERS)"
   ]
  },
  {
   "cell_type": "code",
   "execution_count": null,
   "id": "ea1565f1",
   "metadata": {},
   "outputs": [],
   "source": [
    "(df_SKEW_UPPER_OUTLIERS.write\n",
    "                       .mode(\"overwrite\")\n",
    "                       .parquet(\"../outputs/df_SKEW_UPPER_OUTLIERS.parquet\"))"
   ]
  },
  {
   "cell_type": "code",
   "execution_count": null,
   "id": "253e331b",
   "metadata": {},
   "outputs": [],
   "source": []
  }
 ],
 "metadata": {
  "kernelspec": {
   "display_name": "spark_env",
   "language": "python",
   "name": "spark_env"
  },
  "language_info": {
   "codemirror_mode": {
    "name": "ipython",
    "version": 3
   },
   "file_extension": ".py",
   "mimetype": "text/x-python",
   "name": "python",
   "nbconvert_exporter": "python",
   "pygments_lexer": "ipython3",
   "version": "3.11.3"
  }
 },
 "nbformat": 4,
 "nbformat_minor": 5
}
