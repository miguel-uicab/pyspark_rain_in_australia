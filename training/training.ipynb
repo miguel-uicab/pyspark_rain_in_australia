{
 "cells": [
  {
   "cell_type": "code",
   "execution_count": 1,
   "id": "ff468edb",
   "metadata": {},
   "outputs": [
    {
     "name": "stderr",
     "output_type": "stream",
     "text": [
      "23/07/31 10:27:26 WARN Utils: Your hostname, miguel resolves to a loopback address: 127.0.1.1; using 172.17.0.1 instead (on interface docker0)\n",
      "23/07/31 10:27:26 WARN Utils: Set SPARK_LOCAL_IP if you need to bind to another address\n",
      "Setting default log level to \"WARN\".\n",
      "To adjust logging level use sc.setLogLevel(newLevel). For SparkR, use setLogLevel(newLevel).\n",
      "23/07/31 10:27:27 WARN NativeCodeLoader: Unable to load native-hadoop library for your platform... using builtin-java classes where applicable\n",
      "23/07/31 10:27:28 WARN Utils: Service 'SparkUI' could not bind on port 4040. Attempting port 4041.\n"
     ]
    }
   ],
   "source": [
    "import findspark\n",
    "findspark.init()\n",
    "from pyspark.sql import SparkSession\n",
    "spark = SparkSession.builder.appName('training').getOrCreate()"
   ]
  },
  {
   "cell_type": "code",
   "execution_count": 2,
   "id": "237efcd2",
   "metadata": {},
   "outputs": [],
   "source": [
    "# Import machine learning libraries\n",
    "from pyspark.ml.feature import VectorAssembler\n",
    "from pyspark.ml.regression import LinearRegression\n",
    "from pyspark.ml.evaluation import RegressionEvaluator\n",
    "\n",
    "# Machine learning pipeline\n",
    "from pyspark.ml import Pipeline\n",
    "\n",
    "# Import SQL transformer\n",
    "from pyspark.ml.feature import SQLTransformer, StandardScaler, StringIndexer\n",
    "\n",
    "\n",
    "from pyspark.ml.feature import MinMaxScaler\n",
    "from pyspark.ml.regression import LinearRegression, RandomForestRegressor\n",
    "from pyspark.ml.evaluation import RegressionEvaluator\n",
    "from pyspark.ml.tuning import ParamGridBuilder, CrossValidator\n",
    "from pyspark.ml.evaluation import RegressionEvaluator\n",
    "from pyspark.ml.feature import Imputer\n",
    "import pyspark.sql.functions as F\n",
    "\n",
    "from pyspark.sql.functions import col\n",
    "from pyspark.sql.types import FloatType\n",
    "\n",
    "from pyspark.ml.classification import LogisticRegression\n",
    "\n",
    "from pyspark.ml.evaluation import BinaryClassificationEvaluator\n",
    "\n",
    "from pyspark.ml.tuning import ParamGridBuilder, CrossValidator\n",
    "from pyspark.ml.evaluation import BinaryClassificationEvaluator\n",
    "\n",
    "from pyspark.ml.evaluation import MulticlassClassificationEvaluator"
   ]
  },
  {
   "cell_type": "markdown",
   "id": "f60a59bd",
   "metadata": {},
   "source": [
    "# 0.CARGA DE DATAS"
   ]
  },
  {
   "cell_type": "code",
   "execution_count": 3,
   "id": "5661f3e9",
   "metadata": {},
   "outputs": [
    {
     "name": "stderr",
     "output_type": "stream",
     "text": [
      "                                                                                \r"
     ]
    }
   ],
   "source": [
    "df_train = spark.read.parquet(\"../outputs/df_train.parquet\")\n",
    "df_test = spark.read.parquet(\"../outputs/df_test.parquet\")"
   ]
  },
  {
   "cell_type": "code",
   "execution_count": 4,
   "id": "7821b27d",
   "metadata": {},
   "outputs": [
    {
     "data": {
      "text/plain": [
       "116217"
      ]
     },
     "execution_count": 4,
     "metadata": {},
     "output_type": "execute_result"
    }
   ],
   "source": [
    "df_train.count()"
   ]
  },
  {
   "cell_type": "code",
   "execution_count": 5,
   "id": "4800933e",
   "metadata": {},
   "outputs": [
    {
     "data": {
      "text/plain": [
       "25973"
      ]
     },
     "execution_count": 5,
     "metadata": {},
     "output_type": "execute_result"
    }
   ],
   "source": [
    "df_test.count()"
   ]
  },
  {
   "cell_type": "code",
   "execution_count": 6,
   "id": "e3d6b69f",
   "metadata": {},
   "outputs": [],
   "source": [
    "objective_name = 'RainTomorrow'\n",
    "\n",
    "feature_names = ['Temp9am',\n",
    "                 'RainToday',\n",
    "                 'WindGustSpeed',\n",
    "                 'Humidity9am',\n",
    "                 'WindDir9am',\n",
    "                 'WindDir3pm',\n",
    "                 'WindSpeed3pm',\n",
    "                 'Location',\n",
    "                 'WindSpeed9am',\n",
    "                 'Pressure9am',\n",
    "                 'Rainfall',\n",
    "                 'Humidity3pm',\n",
    "                 'WindGustDir',\n",
    "                 'month',\n",
    "                 'week_of_year']"
   ]
  },
  {
   "cell_type": "markdown",
   "id": "5b0ca922",
   "metadata": {},
   "source": [
    "Se obtiene el dataset de features en el conjunto de __Entrenamiento__."
   ]
  },
  {
   "cell_type": "code",
   "execution_count": 7,
   "id": "1deb2a4e",
   "metadata": {},
   "outputs": [],
   "source": [
    "data_features = df_train.select(feature_names + [objective_name])"
   ]
  },
  {
   "cell_type": "code",
   "execution_count": 8,
   "id": "f7dbcaf3",
   "metadata": {},
   "outputs": [
    {
     "name": "stderr",
     "output_type": "stream",
     "text": [
      "                                                                                \r"
     ]
    },
    {
     "data": {
      "text/html": [
       "<div>\n",
       "<style scoped>\n",
       "    .dataframe tbody tr th:only-of-type {\n",
       "        vertical-align: middle;\n",
       "    }\n",
       "\n",
       "    .dataframe tbody tr th {\n",
       "        vertical-align: top;\n",
       "    }\n",
       "\n",
       "    .dataframe thead th {\n",
       "        text-align: right;\n",
       "    }\n",
       "</style>\n",
       "<table border=\"1\" class=\"dataframe\">\n",
       "  <thead>\n",
       "    <tr style=\"text-align: right;\">\n",
       "      <th></th>\n",
       "      <th>Temp9am</th>\n",
       "      <th>RainToday</th>\n",
       "      <th>WindGustSpeed</th>\n",
       "      <th>Humidity9am</th>\n",
       "      <th>WindDir9am</th>\n",
       "      <th>WindDir3pm</th>\n",
       "      <th>WindSpeed3pm</th>\n",
       "      <th>Location</th>\n",
       "      <th>WindSpeed9am</th>\n",
       "      <th>Pressure9am</th>\n",
       "      <th>Rainfall</th>\n",
       "      <th>Humidity3pm</th>\n",
       "      <th>WindGustDir</th>\n",
       "      <th>month</th>\n",
       "      <th>week_of_year</th>\n",
       "      <th>RainTomorrow</th>\n",
       "    </tr>\n",
       "  </thead>\n",
       "  <tbody>\n",
       "    <tr>\n",
       "      <th>0</th>\n",
       "      <td>22.0</td>\n",
       "      <td>No</td>\n",
       "      <td>48.0</td>\n",
       "      <td>61.0</td>\n",
       "      <td>S</td>\n",
       "      <td>SE</td>\n",
       "      <td>26.0</td>\n",
       "      <td>Cairns</td>\n",
       "      <td>22.0</td>\n",
       "      <td>1018.200012</td>\n",
       "      <td>0.0</td>\n",
       "      <td>57.0</td>\n",
       "      <td>S</td>\n",
       "      <td>6</td>\n",
       "      <td>26</td>\n",
       "      <td>0</td>\n",
       "    </tr>\n",
       "    <tr>\n",
       "      <th>1</th>\n",
       "      <td>14.4</td>\n",
       "      <td>No</td>\n",
       "      <td>30.0</td>\n",
       "      <td>52.0</td>\n",
       "      <td>NW</td>\n",
       "      <td>N</td>\n",
       "      <td>24.0</td>\n",
       "      <td>GoldCoast</td>\n",
       "      <td>11.0</td>\n",
       "      <td>1023.200012</td>\n",
       "      <td>0.0</td>\n",
       "      <td>40.0</td>\n",
       "      <td>NNE</td>\n",
       "      <td>6</td>\n",
       "      <td>26</td>\n",
       "      <td>0</td>\n",
       "    </tr>\n",
       "    <tr>\n",
       "      <th>2</th>\n",
       "      <td>20.4</td>\n",
       "      <td>No</td>\n",
       "      <td>39.0</td>\n",
       "      <td>62.0</td>\n",
       "      <td>undefined</td>\n",
       "      <td>ENE</td>\n",
       "      <td>26.0</td>\n",
       "      <td>Townsville</td>\n",
       "      <td>0.0</td>\n",
       "      <td>1019.900024</td>\n",
       "      <td>0.0</td>\n",
       "      <td>59.0</td>\n",
       "      <td>E</td>\n",
       "      <td>6</td>\n",
       "      <td>26</td>\n",
       "      <td>0</td>\n",
       "    </tr>\n",
       "    <tr>\n",
       "      <th>3</th>\n",
       "      <td>13.2</td>\n",
       "      <td>No</td>\n",
       "      <td>72.0</td>\n",
       "      <td>56.0</td>\n",
       "      <td>N</td>\n",
       "      <td>NNW</td>\n",
       "      <td>26.0</td>\n",
       "      <td>Adelaide</td>\n",
       "      <td>24.0</td>\n",
       "      <td>1008.099976</td>\n",
       "      <td>0.0</td>\n",
       "      <td>49.0</td>\n",
       "      <td>NW</td>\n",
       "      <td>6</td>\n",
       "      <td>26</td>\n",
       "      <td>1</td>\n",
       "    </tr>\n",
       "    <tr>\n",
       "      <th>4</th>\n",
       "      <td>10.8</td>\n",
       "      <td>No</td>\n",
       "      <td>59.0</td>\n",
       "      <td>70.0</td>\n",
       "      <td>N</td>\n",
       "      <td>N</td>\n",
       "      <td>28.0</td>\n",
       "      <td>MountGambier</td>\n",
       "      <td>31.0</td>\n",
       "      <td>1004.099976</td>\n",
       "      <td>0.0</td>\n",
       "      <td>61.0</td>\n",
       "      <td>N</td>\n",
       "      <td>6</td>\n",
       "      <td>26</td>\n",
       "      <td>1</td>\n",
       "    </tr>\n",
       "    <tr>\n",
       "      <th>...</th>\n",
       "      <td>...</td>\n",
       "      <td>...</td>\n",
       "      <td>...</td>\n",
       "      <td>...</td>\n",
       "      <td>...</td>\n",
       "      <td>...</td>\n",
       "      <td>...</td>\n",
       "      <td>...</td>\n",
       "      <td>...</td>\n",
       "      <td>...</td>\n",
       "      <td>...</td>\n",
       "      <td>...</td>\n",
       "      <td>...</td>\n",
       "      <td>...</td>\n",
       "      <td>...</td>\n",
       "      <td>...</td>\n",
       "    </tr>\n",
       "    <tr>\n",
       "      <th>116212</th>\n",
       "      <td>11.7</td>\n",
       "      <td>No</td>\n",
       "      <td>54.0</td>\n",
       "      <td>50.0</td>\n",
       "      <td>WSW</td>\n",
       "      <td>SSW</td>\n",
       "      <td>37.0</td>\n",
       "      <td>Williamtown</td>\n",
       "      <td>24.0</td>\n",
       "      <td>1023.799988</td>\n",
       "      <td>0.0</td>\n",
       "      <td>34.0</td>\n",
       "      <td>SSW</td>\n",
       "      <td>7</td>\n",
       "      <td>31</td>\n",
       "      <td>1</td>\n",
       "    </tr>\n",
       "    <tr>\n",
       "      <th>116213</th>\n",
       "      <td>7.1</td>\n",
       "      <td>Yes</td>\n",
       "      <td>48.0</td>\n",
       "      <td>72.0</td>\n",
       "      <td>SSW</td>\n",
       "      <td>SSW</td>\n",
       "      <td>13.0</td>\n",
       "      <td>Hobart</td>\n",
       "      <td>17.0</td>\n",
       "      <td>1029.599976</td>\n",
       "      <td>2.2</td>\n",
       "      <td>59.0</td>\n",
       "      <td>SW</td>\n",
       "      <td>7</td>\n",
       "      <td>31</td>\n",
       "      <td>1</td>\n",
       "    </tr>\n",
       "    <tr>\n",
       "      <th>116214</th>\n",
       "      <td>1.6</td>\n",
       "      <td>No</td>\n",
       "      <td>50.0</td>\n",
       "      <td>97.0</td>\n",
       "      <td>undefined</td>\n",
       "      <td>SE</td>\n",
       "      <td>20.0</td>\n",
       "      <td>Launceston</td>\n",
       "      <td>0.0</td>\n",
       "      <td>1029.000000</td>\n",
       "      <td>0.0</td>\n",
       "      <td>51.0</td>\n",
       "      <td>SE</td>\n",
       "      <td>7</td>\n",
       "      <td>31</td>\n",
       "      <td>0</td>\n",
       "    </tr>\n",
       "    <tr>\n",
       "      <th>116215</th>\n",
       "      <td>9.0</td>\n",
       "      <td>No</td>\n",
       "      <td>48.0</td>\n",
       "      <td>54.0</td>\n",
       "      <td>ESE</td>\n",
       "      <td>ESE</td>\n",
       "      <td>24.0</td>\n",
       "      <td>AliceSprings</td>\n",
       "      <td>13.0</td>\n",
       "      <td>1028.500000</td>\n",
       "      <td>0.0</td>\n",
       "      <td>30.0</td>\n",
       "      <td>E</td>\n",
       "      <td>7</td>\n",
       "      <td>31</td>\n",
       "      <td>0</td>\n",
       "    </tr>\n",
       "    <tr>\n",
       "      <th>116216</th>\n",
       "      <td>20.4</td>\n",
       "      <td>No</td>\n",
       "      <td>41.0</td>\n",
       "      <td>28.0</td>\n",
       "      <td>SSE</td>\n",
       "      <td>E</td>\n",
       "      <td>15.0</td>\n",
       "      <td>Darwin</td>\n",
       "      <td>24.0</td>\n",
       "      <td>1016.400024</td>\n",
       "      <td>0.0</td>\n",
       "      <td>20.0</td>\n",
       "      <td>SE</td>\n",
       "      <td>7</td>\n",
       "      <td>31</td>\n",
       "      <td>0</td>\n",
       "    </tr>\n",
       "  </tbody>\n",
       "</table>\n",
       "<p>116217 rows × 16 columns</p>\n",
       "</div>"
      ],
      "text/plain": [
       "        Temp9am RainToday  WindGustSpeed  Humidity9am WindDir9am WindDir3pm   \n",
       "0          22.0        No           48.0         61.0          S         SE  \\\n",
       "1          14.4        No           30.0         52.0         NW          N   \n",
       "2          20.4        No           39.0         62.0  undefined        ENE   \n",
       "3          13.2        No           72.0         56.0          N        NNW   \n",
       "4          10.8        No           59.0         70.0          N          N   \n",
       "...         ...       ...            ...          ...        ...        ...   \n",
       "116212     11.7        No           54.0         50.0        WSW        SSW   \n",
       "116213      7.1       Yes           48.0         72.0        SSW        SSW   \n",
       "116214      1.6        No           50.0         97.0  undefined         SE   \n",
       "116215      9.0        No           48.0         54.0        ESE        ESE   \n",
       "116216     20.4        No           41.0         28.0        SSE          E   \n",
       "\n",
       "        WindSpeed3pm      Location  WindSpeed9am  Pressure9am  Rainfall   \n",
       "0               26.0        Cairns          22.0  1018.200012       0.0  \\\n",
       "1               24.0     GoldCoast          11.0  1023.200012       0.0   \n",
       "2               26.0    Townsville           0.0  1019.900024       0.0   \n",
       "3               26.0      Adelaide          24.0  1008.099976       0.0   \n",
       "4               28.0  MountGambier          31.0  1004.099976       0.0   \n",
       "...              ...           ...           ...          ...       ...   \n",
       "116212          37.0   Williamtown          24.0  1023.799988       0.0   \n",
       "116213          13.0        Hobart          17.0  1029.599976       2.2   \n",
       "116214          20.0    Launceston           0.0  1029.000000       0.0   \n",
       "116215          24.0  AliceSprings          13.0  1028.500000       0.0   \n",
       "116216          15.0        Darwin          24.0  1016.400024       0.0   \n",
       "\n",
       "        Humidity3pm WindGustDir month week_of_year RainTomorrow  \n",
       "0              57.0           S     6           26            0  \n",
       "1              40.0         NNE     6           26            0  \n",
       "2              59.0           E     6           26            0  \n",
       "3              49.0          NW     6           26            1  \n",
       "4              61.0           N     6           26            1  \n",
       "...             ...         ...   ...          ...          ...  \n",
       "116212         34.0         SSW     7           31            1  \n",
       "116213         59.0          SW     7           31            1  \n",
       "116214         51.0          SE     7           31            0  \n",
       "116215         30.0           E     7           31            0  \n",
       "116216         20.0          SE     7           31            0  \n",
       "\n",
       "[116217 rows x 16 columns]"
      ]
     },
     "execution_count": 8,
     "metadata": {},
     "output_type": "execute_result"
    }
   ],
   "source": [
    "data_features.toPandas()"
   ]
  },
  {
   "cell_type": "markdown",
   "id": "172d9511",
   "metadata": {},
   "source": [
    "Se obtienen los nombres de variables numéricas y de las categóricas."
   ]
  },
  {
   "cell_type": "code",
   "execution_count": 9,
   "id": "fba0642b",
   "metadata": {},
   "outputs": [
    {
     "data": {
      "text/plain": [
       "['Temp9am',\n",
       " 'WindGustSpeed',\n",
       " 'Humidity9am',\n",
       " 'WindSpeed3pm',\n",
       " 'WindSpeed9am',\n",
       " 'Pressure9am',\n",
       " 'Rainfall',\n",
       " 'Humidity3pm']"
      ]
     },
     "execution_count": 9,
     "metadata": {},
     "output_type": "execute_result"
    }
   ],
   "source": [
    "float_names = [col_name for col_name, col_type in data_features.dtypes if col_type == 'float']\n",
    "float_names"
   ]
  },
  {
   "cell_type": "code",
   "execution_count": 10,
   "id": "9b2b5867",
   "metadata": {},
   "outputs": [],
   "source": [
    "categorical_names = [col_name for col_name, col_type in data_features.dtypes if col_type == 'string']\n",
    "categorical_names = ['RainToday',\n",
    "                     'WindDir9am',\n",
    "                     'WindDir3pm',\n",
    "                     'Location',\n",
    "                     'WindGustDir',\n",
    "                     'month',\n",
    "                     'week_of_year'\n",
    "                    ]"
   ]
  },
  {
   "cell_type": "code",
   "execution_count": 11,
   "id": "cc291d6a",
   "metadata": {},
   "outputs": [],
   "source": [
    "df_train = df_train.withColumn('RainTomorrow',\n",
    "                   col('RainTomorrow').cast(FloatType()))"
   ]
  },
  {
   "cell_type": "code",
   "execution_count": 12,
   "id": "4e53f837",
   "metadata": {},
   "outputs": [],
   "source": [
    "df_test = df_test.withColumn('RainTomorrow',\n",
    "                   col('RainTomorrow').cast(FloatType()))"
   ]
  },
  {
   "cell_type": "markdown",
   "id": "5d963d19",
   "metadata": {},
   "source": [
    "# DESEÑO DE PIPELINE DE PREPROCESAMIENTO"
   ]
  },
  {
   "cell_type": "code",
   "execution_count": 13,
   "id": "a1291e8a",
   "metadata": {},
   "outputs": [
    {
     "name": "stdout",
     "output_type": "stream",
     "text": [
      "root\n",
      " |-- Temp9am: float (nullable = true)\n",
      " |-- RainToday: string (nullable = true)\n",
      " |-- RainTomorrow: float (nullable = true)\n",
      " |-- WindGustSpeed: float (nullable = true)\n",
      " |-- Humidity9am: float (nullable = true)\n",
      " |-- WindDir9am: string (nullable = true)\n",
      " |-- WindDir3pm: string (nullable = true)\n",
      " |-- WindSpeed3pm: float (nullable = true)\n",
      " |-- Location: string (nullable = true)\n",
      " |-- WindSpeed9am: float (nullable = true)\n",
      " |-- Pressure9am: float (nullable = true)\n",
      " |-- Rainfall: float (nullable = true)\n",
      " |-- Humidity3pm: float (nullable = true)\n",
      " |-- WindGustDir: string (nullable = true)\n",
      " |-- Date: date (nullable = true)\n",
      " |-- month: string (nullable = true)\n",
      " |-- year: integer (nullable = true)\n",
      " |-- week_of_year: string (nullable = true)\n",
      "\n"
     ]
    }
   ],
   "source": [
    "df_train.printSchema()"
   ]
  },
  {
   "cell_type": "code",
   "execution_count": 14,
   "id": "838446e3",
   "metadata": {},
   "outputs": [],
   "source": [
    "# Crear objetos para Imputer\n",
    "imputer = Imputer(\n",
    "    inputCols=float_names,\n",
    "    outputCols=[f\"{col}_imputed\" for col in float_names]\n",
    ")\n",
    "\n",
    "# Crear objetos para StringIndexer\n",
    "string_indexers = [\n",
    "    StringIndexer(inputCol=col, outputCol=f\"{col}_index\")\n",
    "    for col in categorical_names\n",
    "]\n",
    "\n",
    "# Crear objetos para VectorAssembler\n",
    "numerical_vec_ass = VectorAssembler(\n",
    "    inputCols=[f\"{col}_imputed\" for col in float_names],\n",
    "    outputCol=\"features_num\"\n",
    ")\n",
    "\n",
    "categorical_vec_ass = VectorAssembler(\n",
    "    inputCols=[f\"{col}_index\" for col in categorical_names],\n",
    "    outputCol=\"features_cat\"\n",
    ")\n",
    "\n",
    "# Crear el objeto VectorAssembler adicional para combinar las columnas numéricas y categóricas\n",
    "final_vec_ass = VectorAssembler(\n",
    "    inputCols=[\"features_num\", \"features_cat\"],\n",
    "    outputCol=\"features\"\n",
    ")"
   ]
  },
  {
   "cell_type": "code",
   "execution_count": 15,
   "id": "2d3cc65e",
   "metadata": {},
   "outputs": [],
   "source": [
    "# Definir las etapas del Pipeline en el orden deseado, incluyendo el nuevo VectorAssembler adicional\n",
    "stages = [imputer] + string_indexers + [numerical_vec_ass, categorical_vec_ass, final_vec_ass]"
   ]
  },
  {
   "cell_type": "code",
   "execution_count": 16,
   "id": "df0b6964",
   "metadata": {},
   "outputs": [],
   "source": [
    "# Crear el Pipeline\n",
    "pipeline = Pipeline(stages=stages)"
   ]
  },
  {
   "cell_type": "code",
   "execution_count": 17,
   "id": "cf34fea9",
   "metadata": {},
   "outputs": [
    {
     "name": "stderr",
     "output_type": "stream",
     "text": [
      "                                                                                \r"
     ]
    }
   ],
   "source": [
    "# Ajustar el Pipeline al DataFrame df para obtener el modelo de transformación\n",
    "pipeline_model = pipeline.fit(df_train)"
   ]
  },
  {
   "cell_type": "code",
   "execution_count": 18,
   "id": "4e27c815",
   "metadata": {},
   "outputs": [],
   "source": [
    "# Utilizar el modelo del Pipeline para transformar df\n",
    "df_train_transformed = pipeline_model.transform(df_train)"
   ]
  },
  {
   "cell_type": "code",
   "execution_count": 19,
   "id": "6b8ac651",
   "metadata": {},
   "outputs": [],
   "source": [
    "# Muestra el DataFrame resultante con todas las columnas codificadas y combinadas en vectores\n",
    "# df_train_transformed.toPandas()"
   ]
  },
  {
   "cell_type": "markdown",
   "id": "852f01a8",
   "metadata": {},
   "source": [
    "# AJUSTE DE REGRESIÓN LOGÍSTICA"
   ]
  },
  {
   "cell_type": "code",
   "execution_count": 20,
   "id": "04df48b4",
   "metadata": {},
   "outputs": [
    {
     "name": "stdout",
     "output_type": "stream",
     "text": [
      "aggregationDepth: suggested depth for treeAggregate (>= 2). (default: 2)\n",
      "elasticNetParam: the ElasticNet mixing parameter, in range [0, 1]. For alpha = 0, the penalty is an L2 penalty. For alpha = 1, it is an L1 penalty. (default: 0.0)\n",
      "family: The name of family which is a description of the label distribution to be used in the model. Supported options: auto, binomial, multinomial (default: auto)\n",
      "featuresCol: features column name. (default: features, current: features)\n",
      "fitIntercept: whether to fit an intercept term. (default: True)\n",
      "labelCol: label column name. (default: label, current: RainTomorrow)\n",
      "lowerBoundsOnCoefficients: The lower bounds on coefficients if fitting under bound constrained optimization. The bound matrix must be compatible with the shape (1, number of features) for binomial regression, or (number of classes, number of features) for multinomial regression. (undefined)\n",
      "lowerBoundsOnIntercepts: The lower bounds on intercepts if fitting under bound constrained optimization. The bounds vector size must beequal with 1 for binomial regression, or the number oflasses for multinomial regression. (undefined)\n",
      "maxBlockSizeInMB: maximum memory in MB for stacking input data into blocks. Data is stacked within partitions. If more than remaining data size in a partition then it is adjusted to the data size. Default 0.0 represents choosing optimal value, depends on specific algorithm. Must be >= 0. (default: 0.0)\n",
      "maxIter: max number of iterations (>= 0). (default: 100)\n",
      "predictionCol: prediction column name. (default: prediction)\n",
      "probabilityCol: Column name for predicted class conditional probabilities. Note: Not all models output well-calibrated probability estimates! These probabilities should be treated as confidences, not precise probabilities. (default: probability)\n",
      "rawPredictionCol: raw prediction (a.k.a. confidence) column name. (default: rawPrediction)\n",
      "regParam: regularization parameter (>= 0). (default: 0.0)\n",
      "standardization: whether to standardize the training features before fitting the model. (default: True)\n",
      "threshold: Threshold in binary classification prediction, in range [0, 1]. If threshold and thresholds are both set, they must match.e.g. if threshold is p, then thresholds must be equal to [1-p, p]. (default: 0.5)\n",
      "thresholds: Thresholds in multi-class classification to adjust the probability of predicting each class. Array must have length equal to the number of classes, with values > 0, excepting that at most one value may be 0. The class with largest value p/t is predicted, where p is the original probability of that class and t is the class's threshold. (undefined)\n",
      "tol: the convergence tolerance for iterative algorithms (>= 0). (default: 1e-06)\n",
      "upperBoundsOnCoefficients: The upper bounds on coefficients if fitting under bound constrained optimization. The bound matrix must be compatible with the shape (1, number of features) for binomial regression, or (number of classes, number of features) for multinomial regression. (undefined)\n",
      "upperBoundsOnIntercepts: The upper bounds on intercepts if fitting under bound constrained optimization. The bound vector size must be equal with 1 for binomial regression, or the number of classes for multinomial regression. (undefined)\n",
      "weightCol: weight column name. If this is not set or empty, we treat all instance weights as 1.0. (undefined)\n"
     ]
    }
   ],
   "source": [
    "# Create a linear regression model\n",
    "lin_reg = LogisticRegression(featuresCol='features',\n",
    "                             labelCol='RainTomorrow'\n",
    "                             )\n",
    "# Explain parameter \n",
    "print(lin_reg.explainParams())\n",
    "# predictionCol='prediction'"
   ]
  },
  {
   "cell_type": "code",
   "execution_count": 21,
   "id": "15459556",
   "metadata": {},
   "outputs": [
    {
     "name": "stderr",
     "output_type": "stream",
     "text": [
      "                                                                                \r"
     ]
    }
   ],
   "source": [
    "lin_reg_model = lin_reg.fit(df_train_transformed)\n",
    "df_train_pred = lin_reg_model.transform(df_train_transformed)"
   ]
  },
  {
   "cell_type": "code",
   "execution_count": 22,
   "id": "19a7ef66",
   "metadata": {},
   "outputs": [],
   "source": [
    "reg_eval = BinaryClassificationEvaluator(labelCol=\"RainTomorrow\",\n",
    "                                         metricName=\"areaUnderPR\")"
   ]
  },
  {
   "cell_type": "code",
   "execution_count": 23,
   "id": "68483c94",
   "metadata": {},
   "outputs": [
    {
     "name": "stderr",
     "output_type": "stream",
     "text": [
      "                                                                                \r"
     ]
    },
    {
     "data": {
      "text/plain": [
       "0.6651213627151822"
      ]
     },
     "execution_count": 23,
     "metadata": {},
     "output_type": "execute_result"
    }
   ],
   "source": [
    "reg_eval.evaluate(df_train_pred)"
   ]
  },
  {
   "cell_type": "code",
   "execution_count": 24,
   "id": "14ba1f24",
   "metadata": {},
   "outputs": [],
   "source": [
    "evaluator = MulticlassClassificationEvaluator(predictionCol=\"prediction\",\n",
    "                                              labelCol=\"RainTomorrow\",\n",
    "                                              metricName=\"f1\")"
   ]
  },
  {
   "cell_type": "code",
   "execution_count": 25,
   "id": "cb0df287",
   "metadata": {},
   "outputs": [
    {
     "name": "stderr",
     "output_type": "stream",
     "text": [
      "                                                                                \r"
     ]
    },
    {
     "data": {
      "text/plain": [
       "0.8272277555792967"
      ]
     },
     "execution_count": 25,
     "metadata": {},
     "output_type": "execute_result"
    }
   ],
   "source": [
    "evaluator.evaluate(df_train_pred)"
   ]
  },
  {
   "cell_type": "markdown",
   "id": "7ce87dc5",
   "metadata": {},
   "source": [
    "## CROSS-VALIDACIÓN Y OPTIMIZACIÓN"
   ]
  },
  {
   "cell_type": "markdown",
   "id": "c2277d99",
   "metadata": {},
   "source": [
    "Define the pipeline"
   ]
  },
  {
   "cell_type": "code",
   "execution_count": 26,
   "id": "87121458",
   "metadata": {},
   "outputs": [],
   "source": [
    "ml_pipeline = Pipeline(stages=[\n",
    "                               pipeline, # Preprocessing pipeline\n",
    "                               lin_reg     # Linear regression model\n",
    "                              ]\n",
    "                      )"
   ]
  },
  {
   "cell_type": "markdown",
   "id": "83b9d660",
   "metadata": {},
   "source": [
    "Define the parameter grid. To build a parameter grid, we use the ParamGridBuilder class. We use the original regression object to reference the parameters we want to tune."
   ]
  },
  {
   "cell_type": "code",
   "execution_count": 27,
   "id": "0be1bf71",
   "metadata": {},
   "outputs": [],
   "source": [
    "param_grid = ParamGridBuilder() \\\n",
    "                               .addGrid(lin_reg.regParam, [0.0, 0.1, 0.3, 0.5]) \\\n",
    "                               .addGrid(lin_reg.elasticNetParam, [0.0, 0.5, 1.0]) \\\n",
    "                               .build()"
   ]
  },
  {
   "cell_type": "code",
   "execution_count": 28,
   "id": "7867cefe",
   "metadata": {},
   "outputs": [],
   "source": [
    "# reg_eval = BinaryClassificationEvaluator(\n",
    "#                                          labelCol='RainTomorrow',\n",
    "#                                           metricName='areaUnderPR' \n",
    "#                                         )"
   ]
  },
  {
   "cell_type": "code",
   "execution_count": 29,
   "id": "fbdb0a39",
   "metadata": {},
   "outputs": [],
   "source": [
    "evaluator = MulticlassClassificationEvaluator(predictionCol=\"prediction\",\n",
    "                                              labelCol=\"RainTomorrow\",\n",
    "                                              metricName=\"f1\")"
   ]
  },
  {
   "cell_type": "code",
   "execution_count": 30,
   "id": "8abcad05",
   "metadata": {},
   "outputs": [],
   "source": [
    "crossval_ml = CrossValidator(\n",
    "                             estimator=ml_pipeline, \n",
    "                             estimatorParamMaps=param_grid, \n",
    "                             evaluator=evaluator, \n",
    "                             numFolds=2\n",
    "                             )"
   ]
  },
  {
   "cell_type": "code",
   "execution_count": 31,
   "id": "b49eb9b7",
   "metadata": {},
   "outputs": [
    {
     "name": "stderr",
     "output_type": "stream",
     "text": [
      "                                                                                \r"
     ]
    }
   ],
   "source": [
    "crossval_ml_model = crossval_ml.fit(df_train)"
   ]
  },
  {
   "cell_type": "code",
   "execution_count": 32,
   "id": "29865204",
   "metadata": {},
   "outputs": [
    {
     "name": "stdout",
     "output_type": "stream",
     "text": [
      "Best model:  PipelineModel_8b11958e2b81\n",
      "Best score:  0.826944787593889\n"
     ]
    }
   ],
   "source": [
    "best_model = crossval_ml_model.bestModel\n",
    "best_score = crossval_ml_model.avgMetrics[0]\n",
    "\n",
    "print(\"Best model: \", best_model)\n",
    "print(\"Best score: \", best_score)"
   ]
  },
  {
   "cell_type": "code",
   "execution_count": 33,
   "id": "743284c3",
   "metadata": {},
   "outputs": [],
   "source": [
    "best_lin_reg_params = best_model.stages[-1].extractParamMap()"
   ]
  },
  {
   "cell_type": "code",
   "execution_count": 34,
   "id": "1795b384",
   "metadata": {},
   "outputs": [
    {
     "name": "stdout",
     "output_type": "stream",
     "text": [
      "Best score (RMSE): 0.826944787593889\n",
      "\n",
      "LogisticRegression_066e55461d5f__aggregationDepth , 2\n",
      "LogisticRegression_066e55461d5f__elasticNetParam  , 0.0\n",
      "LogisticRegression_066e55461d5f__family           , auto\n",
      "LogisticRegression_066e55461d5f__featuresCol      , features\n",
      "LogisticRegression_066e55461d5f__fitIntercept     , True\n",
      "LogisticRegression_066e55461d5f__labelCol         , RainTomorrow\n",
      "LogisticRegression_066e55461d5f__maxBlockSizeInMB , 0.0\n",
      "LogisticRegression_066e55461d5f__maxIter          , 100\n",
      "LogisticRegression_066e55461d5f__predictionCol    , prediction\n",
      "LogisticRegression_066e55461d5f__probabilityCol   , probability\n",
      "LogisticRegression_066e55461d5f__rawPredictionCol , rawPrediction\n",
      "LogisticRegression_066e55461d5f__regParam         , 0.0\n",
      "LogisticRegression_066e55461d5f__standardization  , True\n",
      "LogisticRegression_066e55461d5f__threshold        , 0.5\n",
      "LogisticRegression_066e55461d5f__tol              , 1e-06\n"
     ]
    }
   ],
   "source": [
    "print(\"Best score (RMSE):\", best_score, end=\"\\n\\n\")\n",
    "for parameter, value in best_lin_reg_params.items():\n",
    "    print(f\"{str(parameter):50s}, {value}\")"
   ]
  },
  {
   "cell_type": "markdown",
   "id": "edd6f294",
   "metadata": {},
   "source": [
    "# PUEBA EN CONJUNTO DE TESTEO"
   ]
  },
  {
   "cell_type": "code",
   "execution_count": 35,
   "id": "206a5ee1",
   "metadata": {},
   "outputs": [],
   "source": [
    "df_test_pred = best_model.transform(df_test)"
   ]
  },
  {
   "cell_type": "code",
   "execution_count": 36,
   "id": "e652a822",
   "metadata": {},
   "outputs": [
    {
     "name": "stdout",
     "output_type": "stream",
     "text": [
      "0.8174059583681401\n"
     ]
    }
   ],
   "source": [
    "# show scores\n",
    "print(evaluator.evaluate(df_test_pred))"
   ]
  },
  {
   "cell_type": "code",
   "execution_count": null,
   "id": "99f3aeed",
   "metadata": {},
   "outputs": [],
   "source": []
  }
 ],
 "metadata": {
  "kernelspec": {
   "display_name": "spark_env",
   "language": "python",
   "name": "spark_env"
  },
  "language_info": {
   "codemirror_mode": {
    "name": "ipython",
    "version": 3
   },
   "file_extension": ".py",
   "mimetype": "text/x-python",
   "name": "python",
   "nbconvert_exporter": "python",
   "pygments_lexer": "ipython3",
   "version": "3.11.3"
  }
 },
 "nbformat": 4,
 "nbformat_minor": 5
}
